{
 "cells": [
  {
   "cell_type": "code",
   "execution_count": null,
   "id": "bd006088-9ec0-4c02-9eb3-b3ae9ef48c26",
   "metadata": {},
   "outputs": [],
   "source": [
    "#importing required libraries\n",
    "import requests as re  #importing requested to request the website/url to access there content\n",
    "from bs4 import BeautifulSoup as bs #make the parsing in ordered manner\n",
    "from selenium import webdriver as wd  #autmate the access ofdynamic content webpages written in js\n",
    "import pandas as pd #creating data froms"
   ]
  },
  {
   "cell_type": "code",
   "execution_count": null,
   "id": "4f2e8d30-c07a-44e1-ba33-d4eb6d810b69",
   "metadata": {},
   "outputs": [],
   "source": [
    "url=\"https://www.flipkart.com/search?q=laptops&otracker=search&otracker1=search&marketplace=FLIPKART&as-show=on&as=off&sort=popularity\""
   ]
  },
  {
   "cell_type": "code",
   "execution_count": null,
   "id": "47f14d2c-5dee-450f-9c7c-912b243dd0a1",
   "metadata": {},
   "outputs": [],
   "source": [
    "headers={'brave':'client'} #to access the data and bypass protocol"
   ]
  },
  {
   "cell_type": "code",
   "execution_count": null,
   "id": "dc0083fb-10dc-4ba1-be8f-47888f2e977a",
   "metadata": {},
   "outputs": [],
   "source": [
    "driver=wd.Chrome() #opening the web-page"
   ]
  },
  {
   "cell_type": "code",
   "execution_count": null,
   "id": "56f5b23d-63c0-4958-93ea-68bec0b2f59a",
   "metadata": {},
   "outputs": [],
   "source": [
    "driver.get(url) #requesting to acess there content"
   ]
  },
  {
   "cell_type": "code",
   "execution_count": null,
   "id": "bc93fb80-f760-4ce4-b77e-5880d38f76b8",
   "metadata": {},
   "outputs": [],
   "source": [
    "content=bs(driver.page_source,'html.parser') #parsing the  html content"
   ]
  },
  {
   "cell_type": "code",
   "execution_count": null,
   "id": "26cbb104-5eae-4fea-9f80-bbd3f1ef3e7b",
   "metadata": {
    "scrolled": true
   },
   "outputs": [],
   "source": [
    "content"
   ]
  },
  {
   "cell_type": "code",
   "execution_count": null,
   "id": "544d165a-09cc-45a6-9872-a40f6ae8e1f1",
   "metadata": {},
   "outputs": [],
   "source": [
    "Laptop_names=[]\n",
    "for i in content.find_all('div',class_='KzDlHZ'):    #finding the common patterns between names and assigning the class to access the contents\n",
    "    Laptop_names.append(i.text)\n",
    "len(Laptop_names)"
   ]
  },
  {
   "cell_type": "code",
   "execution_count": null,
   "id": "458c29e7-52da-4629-9863-d60735b1cee9",
   "metadata": {
    "scrolled": true
   },
   "outputs": [],
   "source": [
    "Lr=[]\n",
    "for i in content.find_all('div',class_='XQDdHH'):\n",
    "    Lr.append(i.text)\n",
    "Lr.insert(20,'None')\n",
    "Laptop_rating=Lr[:24]\n",
    "Laptop_rating"
   ]
  },
  {
   "cell_type": "code",
   "execution_count": null,
   "id": "5435073c-fe91-4453-ac49-3264d577f4e0",
   "metadata": {},
   "outputs": [],
   "source": [
    "Laptop_Price=[]\n",
    "for i in content.find_all('div',class_=\"Nx9bqj _4b5DiR\"):\n",
    "    Laptop_Price.append(i.text)\n",
    "len(Laptop_Price)"
   ]
  },
  {
   "cell_type": "code",
   "execution_count": null,
   "id": "b3093e4a-d3d5-45c5-be4a-cbafffaea269",
   "metadata": {},
   "outputs": [],
   "source": [
    "Rating_Review=[]\n",
    "for i in content.find_all('span',class_=\"Wphh3N\"):\n",
    "    Rating_Review.append(i.text.strip())\n",
    "Rating_Review.insert(20,'None')\n",
    "Rating_Review"
   ]
  },
  {
   "cell_type": "code",
   "execution_count": null,
   "id": "20525441-5d02-4484-9da3-323a2db5f5e5",
   "metadata": {},
   "outputs": [],
   "source": [
    "cleaned_ratings_reviews = [item.replace('\\xa0', ' ') if item != 'None' else 'None' for item in Rating_Review]\n",
    "for item in cleaned_ratings_reviews:\n",
    "    print(item)"
   ]
  },
  {
   "cell_type": "code",
   "execution_count": null,
   "id": "47e90689-e3cc-4562-b7c8-d7a95ad01484",
   "metadata": {},
   "outputs": [],
   "source": [
    "data={'Laptop':Laptop_names,'Price':Laptop_Price,'Rating':Laptop_rating,'Reviews':cleaned_ratings_reviews} #storing the data in dict data structure\n",
    "csv='laptop.csv'\n",
    "df=pd.DataFrame(data)            #creating 2 dimensional data frames \n",
    "df.to_csv(csv,index=True,encoding='utf-8')  #exporting to csv file\n",
    "print('data successfully converter to csv') "
   ]
  },
  {
   "cell_type": "code",
   "execution_count": null,
   "id": "c94df134-817b-4261-a19c-38945515f565",
   "metadata": {},
   "outputs": [],
   "source": [
    "df.head() #printing the first 5 elements of the data"
   ]
  },
  {
   "cell_type": "code",
   "execution_count": null,
   "id": "661001a1-4527-451f-8492-80f2212812c0",
   "metadata": {},
   "outputs": [],
   "source": [
    "driver.quit()"
   ]
  },
  {
   "cell_type": "code",
   "execution_count": null,
   "id": "1c6dd132-1267-477b-937d-7fd8769a4fb8",
   "metadata": {},
   "outputs": [],
   "source": []
  }
 ],
 "metadata": {
  "kernelspec": {
   "display_name": "Python 3 (ipykernel)",
   "language": "python",
   "name": "python3"
  },
  "language_info": {
   "codemirror_mode": {
    "name": "ipython",
    "version": 3
   },
   "file_extension": ".py",
   "mimetype": "text/x-python",
   "name": "python",
   "nbconvert_exporter": "python",
   "pygments_lexer": "ipython3",
   "version": "3.11.7"
  }
 },
 "nbformat": 4,
 "nbformat_minor": 5
}
